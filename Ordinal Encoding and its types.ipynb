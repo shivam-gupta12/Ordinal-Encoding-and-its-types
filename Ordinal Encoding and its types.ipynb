{
 "cells": [
  {
   "cell_type": "markdown",
   "id": "a91533ff",
   "metadata": {},
   "source": [
    "# question 1\n",
    "\n",
    "Ordinal Encoding and Label Encoding are both techniques used for encoding categorical variables into numerical representations. However, they differ in their approach and the scenarios in which they are most suitable.\n",
    "\n",
    "**Ordinal Encoding**:\n",
    "Ordinal Encoding assigns unique integers to each category in a categorical variable, where the integers are ordered based on the categorical variable's inherent order or some predefined order. For example, if we have a categorical variable \"Size\" with categories ['Small', 'Medium', 'Large'], we can assign integers [0, 1, 2] respectively.\n",
    "\n",
    "Example usage: Ordinal Encoding is useful when the categorical variable has an inherent order or rank, such as ratings ('Low', 'Medium', 'High') or education levels ('High School', 'Bachelor's', 'Master's', 'Ph.D.').\n",
    "\n",
    "**Label Encoding**:\n",
    "Label Encoding assigns unique integers to each category in a categorical variable without considering any specific order. The integers are typically assigned arbitrarily, and no numerical relationship exists between them. For example, if we have a categorical variable \"Color\" with categories ['Red', 'Green', 'Blue'], we can assign integers [0, 1, 2] respectively.\n",
    "\n",
    "Example usage: Label Encoding can be suitable when the categorical variable doesn't have an inherent order, and the model is not expected to learn any meaningful relationship between the categories. It is often used for encoding target variables in machine learning models.\n",
    "\n",
    "When choosing between Ordinal Encoding and Label Encoding, consider the nature of the categorical variable and the requirements of your specific problem:\n",
    "\n",
    "- If the categorical variable has a clear order or rank, and the order carries important information, Ordinal Encoding is preferred. This allows the model to capture and leverage the ordinal relationship between the categories.\n",
    "\n",
    "- If there is no inherent order in the categorical variable, or the order is not significant for the problem at hand, Label Encoding can be used. It provides a compact representation of the categories but doesn't impose any relationship between them.\n",
    "\n",
    "It's important to note that some machine learning algorithms might interpret the encoded numerical values as having meaningful distances or relationships. In such cases, Ordinal Encoding may be more appropriate, as it explicitly preserves the ordinal information."
   ]
  },
  {
   "cell_type": "markdown",
   "id": "486115d2",
   "metadata": {},
   "source": [
    "# question 2\n",
    "\n",
    "Target Guided Ordinal Encoding is a technique used to encode categorical variables based on the target variable's relationship with the categories. It assigns ordinal values to the categories, where the order is determined by their impact or correlation with the target variable. The encoding is done in a way that preserves the monotonic relationship between the encoded values and the target variable's probability or mean.\n",
    "\n",
    "Here's a step-by-step explanation of how Target Guided Ordinal Encoding works:\n",
    "\n",
    "1. Calculate the mean or probability of the target variable for each category in the categorical variable.\n",
    "\n",
    "2. Sort the categories based on their mean or probability values.\n",
    "\n",
    "3. Assign ordinal values to the categories based on their sorted order. For example, the category with the highest mean or probability could be assigned a value of 1, the next highest a value of 2, and so on.\n",
    "\n",
    "4. Replace the original categorical variable values with their corresponding ordinal values.\n",
    "\n",
    "By using Target Guided Ordinal Encoding, we encode the categories based on their impact on the target variable, providing the model with information about the target variable's behavior across different categories.\n",
    "\n",
    "Example usage: Let's consider a machine learning project for predicting customer churn in a telecom company. One of the features is \"Plan Type\" with categories ['Basic', 'Premium', 'Ultimate']. We can use Target Guided Ordinal Encoding to encode this feature based on the average churn rate for each plan type. Assuming that 'Ultimate' has the highest churn rate, followed by 'Premium' and 'Basic', the encoding might look like this: {'Basic': 2, 'Premium': 1, 'Ultimate': 0}. Here, a lower encoded value indicates a higher likelihood of churn.\n",
    "\n"
   ]
  },
  {
   "cell_type": "markdown",
   "id": "38db6baa",
   "metadata": {},
   "source": [
    "# question 3\n",
    "\n",
    "**Covariance** is a statistical measure that quantifies the relationship and extent of dependency between two random variables. It indicates how changes in one variable are associated with changes in another variable. Specifically, covariance measures the joint variability of two variables around their respective means.\n",
    "\n",
    "In statistical analysis, covariance is important for several reasons:\n",
    "\n",
    "1. **Relationship assessment**: Covariance helps determine the nature and direction of the relationship between two variables. A positive covariance indicates a direct or positive relationship, where both variables tend to increase or decrease together. A negative covariance indicates an inverse or negative relationship, where one variable tends to increase as the other decreases.\n",
    "\n",
    "2. **Dependency identification**: Covariance helps identify whether two variables are dependent or independent. If the covariance is close to zero, it suggests that the variables are likely independent. However, it's important to note that zero covariance does not necessarily imply independence, as variables can be dependent even with zero covariance.\n",
    "\n",
    "3. **Portfolio diversification**: In finance, covariance is crucial for portfolio management and diversification. Covariance between assets in a portfolio helps assess their co-movement and the potential diversification benefits. By combining assets with low or negative covariance, investors can reduce the overall risk of the portfolio.\n",
    "\n",
    "4. **Modeling relationships**: Covariance is used in various statistical models and algorithms, such as linear regression, where it helps estimate the relationship between the dependent and independent variables. It is also used in multivariate analysis, factor analysis, and many other statistical techniques.\n",
    "\n",
    "Covariance is calculated using the following formula:\n",
    "\n",
    "Cov(X, Y) = Σ((Xᵢ - μₓ) * (Yᵢ - μᵧ)) / (n - 1)\n",
    "\n",
    "where:\n",
    "- X and Y are the two random variables of interest.\n",
    "- Xᵢ and Yᵢ are the individual observations of X and Y, respectively.\n",
    "- μₓ and μᵧ are the means of X and Y, respectively.\n",
    "- Σ represents the sum of the products across all observations.\n",
    "- n is the number of observations.\n",
    "\n",
    "The formula calculates the average of the products of the deviations of X and Y from their respective means, providing an estimation of the joint variability between the variables.\n",
    "\n",
    "It's important to note that covariance alone does not provide a standardized measure of the strength of the relationship. To obtain a standardized measure, covariance is often divided by the standard deviations of X and Y, resulting in the correlation coefficient, which ranges from -1 to 1 and provides a more interpretable measure of the relationship strength."
   ]
  },
  {
   "cell_type": "markdown",
   "id": "3ef4694d",
   "metadata": {},
   "source": [
    "# question 4"
   ]
  },
  {
   "cell_type": "code",
   "execution_count": 2,
   "id": "d6db0611",
   "metadata": {},
   "outputs": [],
   "source": [
    "import pandas as pd"
   ]
  },
  {
   "cell_type": "code",
   "execution_count": 6,
   "id": "413ce07f",
   "metadata": {},
   "outputs": [
    {
     "data": {
      "text/html": [
       "<div>\n",
       "<style scoped>\n",
       "    .dataframe tbody tr th:only-of-type {\n",
       "        vertical-align: middle;\n",
       "    }\n",
       "\n",
       "    .dataframe tbody tr th {\n",
       "        vertical-align: top;\n",
       "    }\n",
       "\n",
       "    .dataframe thead th {\n",
       "        text-align: right;\n",
       "    }\n",
       "</style>\n",
       "<table border=\"1\" class=\"dataframe\">\n",
       "  <thead>\n",
       "    <tr style=\"text-align: right;\">\n",
       "      <th></th>\n",
       "      <th>color</th>\n",
       "      <th>Size</th>\n",
       "      <th>material</th>\n",
       "    </tr>\n",
       "  </thead>\n",
       "  <tbody>\n",
       "    <tr>\n",
       "      <th>0</th>\n",
       "      <td>red</td>\n",
       "      <td>small</td>\n",
       "      <td>wood</td>\n",
       "    </tr>\n",
       "    <tr>\n",
       "      <th>1</th>\n",
       "      <td>green</td>\n",
       "      <td>medium</td>\n",
       "      <td>metal</td>\n",
       "    </tr>\n",
       "    <tr>\n",
       "      <th>2</th>\n",
       "      <td>blue</td>\n",
       "      <td>large</td>\n",
       "      <td>plastic</td>\n",
       "    </tr>\n",
       "  </tbody>\n",
       "</table>\n",
       "</div>"
      ],
      "text/plain": [
       "   color    Size material\n",
       "0    red   small     wood\n",
       "1  green  medium    metal\n",
       "2   blue   large  plastic"
      ]
     },
     "execution_count": 6,
     "metadata": {},
     "output_type": "execute_result"
    }
   ],
   "source": [
    "data = pd.DataFrame({\n",
    "    'color' : ['red' , 'green' , 'blue'],\n",
    "    'Size' : ['small' , 'medium' , 'large'],\n",
    "    'material' : ['wood' , 'metal' , 'plastic']\n",
    "})\n",
    "\n",
    "df=pd.DataFrame(data)\n",
    "df"
   ]
  },
  {
   "cell_type": "code",
   "execution_count": 4,
   "id": "f6695676",
   "metadata": {},
   "outputs": [],
   "source": [
    "from sklearn.preprocessing import LabelEncoder"
   ]
  },
  {
   "cell_type": "code",
   "execution_count": 12,
   "id": "3ac40818",
   "metadata": {},
   "outputs": [
    {
     "data": {
      "text/plain": [
       "(array([2, 1, 0]), array([2, 1, 0]), array([2, 0, 1]))"
      ]
     },
     "execution_count": 12,
     "metadata": {},
     "output_type": "execute_result"
    }
   ],
   "source": [
    "encoder = LabelEncoder()\n",
    "encoding_color = encoder.fit_transform(df['color'])\n",
    "encoding_size = encoder.fit_transform(df['Size'])\n",
    "encoding_material = encoder.fit_transform(df['material'])\n",
    "\n",
    "encoding_color, encoding_size , encoding_material"
   ]
  },
  {
   "cell_type": "code",
   "execution_count": 15,
   "id": "9d0a9cbd",
   "metadata": {},
   "outputs": [],
   "source": [
    "df['color'] = encoding_color\n",
    "df['Size'] = encoding_size\n",
    "df['material'] = encoding_material"
   ]
  },
  {
   "cell_type": "code",
   "execution_count": 16,
   "id": "cdf2bc8f",
   "metadata": {},
   "outputs": [
    {
     "data": {
      "text/html": [
       "<div>\n",
       "<style scoped>\n",
       "    .dataframe tbody tr th:only-of-type {\n",
       "        vertical-align: middle;\n",
       "    }\n",
       "\n",
       "    .dataframe tbody tr th {\n",
       "        vertical-align: top;\n",
       "    }\n",
       "\n",
       "    .dataframe thead th {\n",
       "        text-align: right;\n",
       "    }\n",
       "</style>\n",
       "<table border=\"1\" class=\"dataframe\">\n",
       "  <thead>\n",
       "    <tr style=\"text-align: right;\">\n",
       "      <th></th>\n",
       "      <th>color</th>\n",
       "      <th>Size</th>\n",
       "      <th>material</th>\n",
       "    </tr>\n",
       "  </thead>\n",
       "  <tbody>\n",
       "    <tr>\n",
       "      <th>0</th>\n",
       "      <td>2</td>\n",
       "      <td>2</td>\n",
       "      <td>2</td>\n",
       "    </tr>\n",
       "    <tr>\n",
       "      <th>1</th>\n",
       "      <td>1</td>\n",
       "      <td>1</td>\n",
       "      <td>0</td>\n",
       "    </tr>\n",
       "    <tr>\n",
       "      <th>2</th>\n",
       "      <td>0</td>\n",
       "      <td>0</td>\n",
       "      <td>1</td>\n",
       "    </tr>\n",
       "  </tbody>\n",
       "</table>\n",
       "</div>"
      ],
      "text/plain": [
       "   color  Size  material\n",
       "0      2     2         2\n",
       "1      1     1         0\n",
       "2      0     0         1"
      ]
     },
     "execution_count": 16,
     "metadata": {},
     "output_type": "execute_result"
    }
   ],
   "source": [
    "df"
   ]
  },
  {
   "cell_type": "markdown",
   "id": "0cf678d7",
   "metadata": {},
   "source": [
    "label encoder encodes each column alphabetically."
   ]
  },
  {
   "cell_type": "markdown",
   "id": "ec2afa36",
   "metadata": {},
   "source": [
    "# question 5"
   ]
  },
  {
   "cell_type": "code",
   "execution_count": 80,
   "id": "05f136bb",
   "metadata": {},
   "outputs": [
    {
     "data": {
      "text/html": [
       "<div>\n",
       "<style scoped>\n",
       "    .dataframe tbody tr th:only-of-type {\n",
       "        vertical-align: middle;\n",
       "    }\n",
       "\n",
       "    .dataframe tbody tr th {\n",
       "        vertical-align: top;\n",
       "    }\n",
       "\n",
       "    .dataframe thead th {\n",
       "        text-align: right;\n",
       "    }\n",
       "</style>\n",
       "<table border=\"1\" class=\"dataframe\">\n",
       "  <thead>\n",
       "    <tr style=\"text-align: right;\">\n",
       "      <th></th>\n",
       "      <th>age</th>\n",
       "      <th>Income</th>\n",
       "      <th>Education</th>\n",
       "    </tr>\n",
       "  </thead>\n",
       "  <tbody>\n",
       "    <tr>\n",
       "      <th>0</th>\n",
       "      <td>22</td>\n",
       "      <td>100000</td>\n",
       "      <td>Masters</td>\n",
       "    </tr>\n",
       "    <tr>\n",
       "      <th>1</th>\n",
       "      <td>34</td>\n",
       "      <td>55000</td>\n",
       "      <td>B.E</td>\n",
       "    </tr>\n",
       "    <tr>\n",
       "      <th>2</th>\n",
       "      <td>42</td>\n",
       "      <td>125000</td>\n",
       "      <td>Phd</td>\n",
       "    </tr>\n",
       "    <tr>\n",
       "      <th>3</th>\n",
       "      <td>19</td>\n",
       "      <td>5000</td>\n",
       "      <td>High-school</td>\n",
       "    </tr>\n",
       "    <tr>\n",
       "      <th>4</th>\n",
       "      <td>29</td>\n",
       "      <td>60000</td>\n",
       "      <td>BTech</td>\n",
       "    </tr>\n",
       "  </tbody>\n",
       "</table>\n",
       "</div>"
      ],
      "text/plain": [
       "   age  Income    Education\n",
       "0   22  100000      Masters\n",
       "1   34   55000          B.E\n",
       "2   42  125000          Phd\n",
       "3   19    5000  High-school\n",
       "4   29   60000        BTech"
      ]
     },
     "execution_count": 80,
     "metadata": {},
     "output_type": "execute_result"
    }
   ],
   "source": [
    "import seaborn as sns\n",
    "\n",
    "data = pd.DataFrame({\n",
    "    'age' : [22 , 34 ,42 , 19 , 29],\n",
    "    'Income' : [100000 , 55000 , 125000 , 5000 , 60000],\n",
    "    'Education' : ['Masters' , 'B.E' , 'Phd' , 'High-school' , 'BTech']\n",
    "})\n",
    "\n",
    "data\n"
   ]
  },
  {
   "cell_type": "code",
   "execution_count": 81,
   "id": "98d11519",
   "metadata": {},
   "outputs": [],
   "source": [
    "import numpy as np\n",
    "from sklearn.preprocessing import StandardScaler\n",
    "from sklearn.preprocessing import OrdinalEncoder"
   ]
  },
  {
   "cell_type": "code",
   "execution_count": 82,
   "id": "73e4e1ca",
   "metadata": {},
   "outputs": [
    {
     "data": {
      "text/html": [
       "<style>#sk-container-id-4 {color: black;background-color: white;}#sk-container-id-4 pre{padding: 0;}#sk-container-id-4 div.sk-toggleable {background-color: white;}#sk-container-id-4 label.sk-toggleable__label {cursor: pointer;display: block;width: 100%;margin-bottom: 0;padding: 0.3em;box-sizing: border-box;text-align: center;}#sk-container-id-4 label.sk-toggleable__label-arrow:before {content: \"▸\";float: left;margin-right: 0.25em;color: #696969;}#sk-container-id-4 label.sk-toggleable__label-arrow:hover:before {color: black;}#sk-container-id-4 div.sk-estimator:hover label.sk-toggleable__label-arrow:before {color: black;}#sk-container-id-4 div.sk-toggleable__content {max-height: 0;max-width: 0;overflow: hidden;text-align: left;background-color: #f0f8ff;}#sk-container-id-4 div.sk-toggleable__content pre {margin: 0.2em;color: black;border-radius: 0.25em;background-color: #f0f8ff;}#sk-container-id-4 input.sk-toggleable__control:checked~div.sk-toggleable__content {max-height: 200px;max-width: 100%;overflow: auto;}#sk-container-id-4 input.sk-toggleable__control:checked~label.sk-toggleable__label-arrow:before {content: \"▾\";}#sk-container-id-4 div.sk-estimator input.sk-toggleable__control:checked~label.sk-toggleable__label {background-color: #d4ebff;}#sk-container-id-4 div.sk-label input.sk-toggleable__control:checked~label.sk-toggleable__label {background-color: #d4ebff;}#sk-container-id-4 input.sk-hidden--visually {border: 0;clip: rect(1px 1px 1px 1px);clip: rect(1px, 1px, 1px, 1px);height: 1px;margin: -1px;overflow: hidden;padding: 0;position: absolute;width: 1px;}#sk-container-id-4 div.sk-estimator {font-family: monospace;background-color: #f0f8ff;border: 1px dotted black;border-radius: 0.25em;box-sizing: border-box;margin-bottom: 0.5em;}#sk-container-id-4 div.sk-estimator:hover {background-color: #d4ebff;}#sk-container-id-4 div.sk-parallel-item::after {content: \"\";width: 100%;border-bottom: 1px solid gray;flex-grow: 1;}#sk-container-id-4 div.sk-label:hover label.sk-toggleable__label {background-color: #d4ebff;}#sk-container-id-4 div.sk-serial::before {content: \"\";position: absolute;border-left: 1px solid gray;box-sizing: border-box;top: 0;bottom: 0;left: 50%;z-index: 0;}#sk-container-id-4 div.sk-serial {display: flex;flex-direction: column;align-items: center;background-color: white;padding-right: 0.2em;padding-left: 0.2em;position: relative;}#sk-container-id-4 div.sk-item {position: relative;z-index: 1;}#sk-container-id-4 div.sk-parallel {display: flex;align-items: stretch;justify-content: center;background-color: white;position: relative;}#sk-container-id-4 div.sk-item::before, #sk-container-id-4 div.sk-parallel-item::before {content: \"\";position: absolute;border-left: 1px solid gray;box-sizing: border-box;top: 0;bottom: 0;left: 50%;z-index: -1;}#sk-container-id-4 div.sk-parallel-item {display: flex;flex-direction: column;z-index: 1;position: relative;background-color: white;}#sk-container-id-4 div.sk-parallel-item:first-child::after {align-self: flex-end;width: 50%;}#sk-container-id-4 div.sk-parallel-item:last-child::after {align-self: flex-start;width: 50%;}#sk-container-id-4 div.sk-parallel-item:only-child::after {width: 0;}#sk-container-id-4 div.sk-dashed-wrapped {border: 1px dashed gray;margin: 0 0.4em 0.5em 0.4em;box-sizing: border-box;padding-bottom: 0.4em;background-color: white;}#sk-container-id-4 div.sk-label label {font-family: monospace;font-weight: bold;display: inline-block;line-height: 1.2em;}#sk-container-id-4 div.sk-label-container {text-align: center;}#sk-container-id-4 div.sk-container {/* jupyter's `normalize.less` sets `[hidden] { display: none; }` but bootstrap.min.css set `[hidden] { display: none !important; }` so we also need the `!important` here to be able to override the default hidden behavior on the sphinx rendered scikit-learn.org. See: https://github.com/scikit-learn/scikit-learn/issues/21755 */display: inline-block !important;position: relative;}#sk-container-id-4 div.sk-text-repr-fallback {display: none;}</style><div id=\"sk-container-id-4\" class=\"sk-top-container\"><div class=\"sk-text-repr-fallback\"><pre>OrdinalEncoder(categories=[[&#x27;High-school&#x27;, &#x27;B.E&#x27;, &#x27;BTech&#x27;, &#x27;Masters&#x27;, &#x27;Phd&#x27;]])</pre><b>In a Jupyter environment, please rerun this cell to show the HTML representation or trust the notebook. <br />On GitHub, the HTML representation is unable to render, please try loading this page with nbviewer.org.</b></div><div class=\"sk-container\" hidden><div class=\"sk-item\"><div class=\"sk-estimator sk-toggleable\"><input class=\"sk-toggleable__control sk-hidden--visually\" id=\"sk-estimator-id-4\" type=\"checkbox\" checked><label for=\"sk-estimator-id-4\" class=\"sk-toggleable__label sk-toggleable__label-arrow\">OrdinalEncoder</label><div class=\"sk-toggleable__content\"><pre>OrdinalEncoder(categories=[[&#x27;High-school&#x27;, &#x27;B.E&#x27;, &#x27;BTech&#x27;, &#x27;Masters&#x27;, &#x27;Phd&#x27;]])</pre></div></div></div></div></div>"
      ],
      "text/plain": [
       "OrdinalEncoder(categories=[['High-school', 'B.E', 'BTech', 'Masters', 'Phd']])"
      ]
     },
     "execution_count": 82,
     "metadata": {},
     "output_type": "execute_result"
    }
   ],
   "source": [
    "encoder = OrdinalEncoder(categories= [['High-school' , 'B.E' , 'BTech' , 'Masters' , 'Phd']])\n",
    "encoder"
   ]
  },
  {
   "cell_type": "code",
   "execution_count": 83,
   "id": "8501f531",
   "metadata": {},
   "outputs": [
    {
     "data": {
      "text/plain": [
       "array([[3.],\n",
       "       [1.],\n",
       "       [4.],\n",
       "       [0.],\n",
       "       [2.]])"
      ]
     },
     "execution_count": 83,
     "metadata": {},
     "output_type": "execute_result"
    }
   ],
   "source": [
    "encoding = encoder.fit_transform(data[['Education']])\n",
    "encoding"
   ]
  },
  {
   "cell_type": "code",
   "execution_count": 84,
   "id": "9fbe0725",
   "metadata": {},
   "outputs": [
    {
     "data": {
      "text/html": [
       "<div>\n",
       "<style scoped>\n",
       "    .dataframe tbody tr th:only-of-type {\n",
       "        vertical-align: middle;\n",
       "    }\n",
       "\n",
       "    .dataframe tbody tr th {\n",
       "        vertical-align: top;\n",
       "    }\n",
       "\n",
       "    .dataframe thead th {\n",
       "        text-align: right;\n",
       "    }\n",
       "</style>\n",
       "<table border=\"1\" class=\"dataframe\">\n",
       "  <thead>\n",
       "    <tr style=\"text-align: right;\">\n",
       "      <th></th>\n",
       "      <th>age</th>\n",
       "      <th>Income</th>\n",
       "      <th>Education</th>\n",
       "    </tr>\n",
       "  </thead>\n",
       "  <tbody>\n",
       "    <tr>\n",
       "      <th>0</th>\n",
       "      <td>22</td>\n",
       "      <td>100000</td>\n",
       "      <td>3.0</td>\n",
       "    </tr>\n",
       "    <tr>\n",
       "      <th>1</th>\n",
       "      <td>34</td>\n",
       "      <td>55000</td>\n",
       "      <td>1.0</td>\n",
       "    </tr>\n",
       "    <tr>\n",
       "      <th>2</th>\n",
       "      <td>42</td>\n",
       "      <td>125000</td>\n",
       "      <td>4.0</td>\n",
       "    </tr>\n",
       "    <tr>\n",
       "      <th>3</th>\n",
       "      <td>19</td>\n",
       "      <td>5000</td>\n",
       "      <td>0.0</td>\n",
       "    </tr>\n",
       "    <tr>\n",
       "      <th>4</th>\n",
       "      <td>29</td>\n",
       "      <td>60000</td>\n",
       "      <td>2.0</td>\n",
       "    </tr>\n",
       "  </tbody>\n",
       "</table>\n",
       "</div>"
      ],
      "text/plain": [
       "   age  Income  Education\n",
       "0   22  100000        3.0\n",
       "1   34   55000        1.0\n",
       "2   42  125000        4.0\n",
       "3   19    5000        0.0\n",
       "4   29   60000        2.0"
      ]
     },
     "execution_count": 84,
     "metadata": {},
     "output_type": "execute_result"
    }
   ],
   "source": [
    "data['Education'] = encoding\n",
    "data"
   ]
  },
  {
   "cell_type": "code",
   "execution_count": 85,
   "id": "88dcc852",
   "metadata": {},
   "outputs": [
    {
     "data": {
      "text/html": [
       "<div>\n",
       "<style scoped>\n",
       "    .dataframe tbody tr th:only-of-type {\n",
       "        vertical-align: middle;\n",
       "    }\n",
       "\n",
       "    .dataframe tbody tr th {\n",
       "        vertical-align: top;\n",
       "    }\n",
       "\n",
       "    .dataframe thead th {\n",
       "        text-align: right;\n",
       "    }\n",
       "</style>\n",
       "<table border=\"1\" class=\"dataframe\">\n",
       "  <thead>\n",
       "    <tr style=\"text-align: right;\">\n",
       "      <th></th>\n",
       "      <th>scaled_age</th>\n",
       "      <th>scaled_Income</th>\n",
       "      <th>scaled_Education</th>\n",
       "    </tr>\n",
       "  </thead>\n",
       "  <tbody>\n",
       "    <tr>\n",
       "      <th>0</th>\n",
       "      <td>-0.869555</td>\n",
       "      <td>0.753191</td>\n",
       "      <td>0.707107</td>\n",
       "    </tr>\n",
       "    <tr>\n",
       "      <th>1</th>\n",
       "      <td>0.579703</td>\n",
       "      <td>-0.340151</td>\n",
       "      <td>-0.707107</td>\n",
       "    </tr>\n",
       "    <tr>\n",
       "      <th>2</th>\n",
       "      <td>1.545876</td>\n",
       "      <td>1.360603</td>\n",
       "      <td>1.414214</td>\n",
       "    </tr>\n",
       "    <tr>\n",
       "      <th>3</th>\n",
       "      <td>-1.231870</td>\n",
       "      <td>-1.554974</td>\n",
       "      <td>-1.414214</td>\n",
       "    </tr>\n",
       "    <tr>\n",
       "      <th>4</th>\n",
       "      <td>-0.024154</td>\n",
       "      <td>-0.218668</td>\n",
       "      <td>0.000000</td>\n",
       "    </tr>\n",
       "  </tbody>\n",
       "</table>\n",
       "</div>"
      ],
      "text/plain": [
       "   scaled_age  scaled_Income  scaled_Education\n",
       "0   -0.869555       0.753191          0.707107\n",
       "1    0.579703      -0.340151         -0.707107\n",
       "2    1.545876       1.360603          1.414214\n",
       "3   -1.231870      -1.554974         -1.414214\n",
       "4   -0.024154      -0.218668          0.000000"
      ]
     },
     "execution_count": 85,
     "metadata": {},
     "output_type": "execute_result"
    }
   ],
   "source": [
    "scalar = StandardScaler()\n",
    "scaled_df = pd.DataFrame(scalar.fit_transform(data) , columns = ['scaled_age' , 'scaled_Income' , 'scaled_Education'])\n",
    "scaled_df"
   ]
  },
  {
   "cell_type": "code",
   "execution_count": 86,
   "id": "816dcd75",
   "metadata": {},
   "outputs": [
    {
     "data": {
      "text/html": [
       "<div>\n",
       "<style scoped>\n",
       "    .dataframe tbody tr th:only-of-type {\n",
       "        vertical-align: middle;\n",
       "    }\n",
       "\n",
       "    .dataframe tbody tr th {\n",
       "        vertical-align: top;\n",
       "    }\n",
       "\n",
       "    .dataframe thead th {\n",
       "        text-align: right;\n",
       "    }\n",
       "</style>\n",
       "<table border=\"1\" class=\"dataframe\">\n",
       "  <thead>\n",
       "    <tr style=\"text-align: right;\">\n",
       "      <th></th>\n",
       "      <th>scaled_age</th>\n",
       "      <th>scaled_Income</th>\n",
       "      <th>scaled_Education</th>\n",
       "    </tr>\n",
       "  </thead>\n",
       "  <tbody>\n",
       "    <tr>\n",
       "      <th>scaled_age</th>\n",
       "      <td>1.250000</td>\n",
       "      <td>0.793001</td>\n",
       "      <td>0.725886</td>\n",
       "    </tr>\n",
       "    <tr>\n",
       "      <th>scaled_Income</th>\n",
       "      <td>0.793001</td>\n",
       "      <td>1.250000</td>\n",
       "      <td>1.224089</td>\n",
       "    </tr>\n",
       "    <tr>\n",
       "      <th>scaled_Education</th>\n",
       "      <td>0.725886</td>\n",
       "      <td>1.224089</td>\n",
       "      <td>1.250000</td>\n",
       "    </tr>\n",
       "  </tbody>\n",
       "</table>\n",
       "</div>"
      ],
      "text/plain": [
       "                  scaled_age  scaled_Income  scaled_Education\n",
       "scaled_age          1.250000       0.793001          0.725886\n",
       "scaled_Income       0.793001       1.250000          1.224089\n",
       "scaled_Education    0.725886       1.224089          1.250000"
      ]
     },
     "execution_count": 86,
     "metadata": {},
     "output_type": "execute_result"
    }
   ],
   "source": [
    "scaled_df.cov()"
   ]
  },
  {
   "cell_type": "code",
   "execution_count": 87,
   "id": "d39a3499",
   "metadata": {},
   "outputs": [
    {
     "data": {
      "text/plain": [
       "<Axes: >"
      ]
     },
     "execution_count": 87,
     "metadata": {},
     "output_type": "execute_result"
    },
    {
     "data": {
      "image/png": "[encoded data removed]",
      "text/plain": [
       "<Figure size 640x480 with 2 Axes>"
      ]
     },
     "metadata": {},
     "output_type": "display_data"
    }
   ],
   "source": [
    "sns.heatmap(scaled_df.cov())"
   ]
  },
  {
   "cell_type": "markdown",
   "id": "39fc697f",
   "metadata": {},
   "source": [
    "since there is positive covariance , we can interpret that when age and education level increases, income also increases."
   ]
  },
  {
   "cell_type": "markdown",
   "id": "7a900aab",
   "metadata": {},
   "source": [
    "# question 6\n",
    "\n",
    "For the given categorical variables in your dataset, here's a recommendation for which encoding method to use:\n",
    "\n",
    "1. **Gender**: For the \"Gender\" variable with categories \"Male\" and \"Female,\" you can use **Label Encoding**. Since there is no inherent order or significance associated with the categories, Label Encoding would assign arbitrary numeric labels such as 0 and 1 to the categories.\n",
    "\n",
    "   Example encoding: \"Male\" -> 0, \"Female\" -> 1\n",
    "\n",
    "2. **Education Level**: For the \"Education Level\" variable with categories \"High School,\" \"Bachelor's,\" \"Master's,\" and \"PhD,\" you can use **Ordinal Encoding**. The categories have a natural order from the least to the highest level of education. Ordinal Encoding would assign numerical labels based on this order.\n",
    "\n",
    "   Example encoding: \"High School\" -> 0, \"Bachelor's\" -> 1, \"Master's\" -> 2, \"PhD\" -> 3\n",
    "\n",
    "   Alternatively, you could also consider **One-Hot Encoding** if there is no inherent order or if you prefer to treat education levels as separate binary features. One-Hot Encoding would create four separate binary columns for each category.\n",
    "\n",
    "   Example encoding: \"High School\" -> [1, 0, 0, 0], \"Bachelor's\" -> [0, 1, 0, 0], \"Master's\" -> [0, 0, 1, 0], \"PhD\" -> [0, 0, 0, 1]\n",
    "\n",
    "3. **Employment Status**: For the \"Employment Status\" variable with categories \"Unemployed,\" \"Part-Time,\" and \"Full-Time,\" you can use **One-Hot Encoding**. The categories don't have a specific order, and you might want to treat them as separate binary features. One-Hot Encoding would create three separate binary columns for each category.\n",
    "\n",
    "   Example encoding: \"Unemployed\" -> [1, 0, 0], \"Part-Time\" -> [0, 1, 0], \"Full-Time\" -> [0, 0, 1]\n",
    "\n",
    "Using the appropriate encoding method for each categorical variable helps the machine learning model effectively interpret and utilize the information present in the data. It ensures that the encoded representations preserve the desired properties and relationships of the original categorical variables."
   ]
  },
  {
   "cell_type": "markdown",
   "id": "b4aa34b7",
   "metadata": {},
   "source": [
    "# question 7"
   ]
  },
  {
   "cell_type": "code",
   "execution_count": 60,
   "id": "649c5f1e",
   "metadata": {},
   "outputs": [
    {
     "data": {
      "text/html": [
       "<div>\n",
       "<style scoped>\n",
       "    .dataframe tbody tr th:only-of-type {\n",
       "        vertical-align: middle;\n",
       "    }\n",
       "\n",
       "    .dataframe tbody tr th {\n",
       "        vertical-align: top;\n",
       "    }\n",
       "\n",
       "    .dataframe thead th {\n",
       "        text-align: right;\n",
       "    }\n",
       "</style>\n",
       "<table border=\"1\" class=\"dataframe\">\n",
       "  <thead>\n",
       "    <tr style=\"text-align: right;\">\n",
       "      <th></th>\n",
       "      <th>Temperature</th>\n",
       "      <th>Humidity</th>\n",
       "      <th>Weather Condition</th>\n",
       "      <th>Wind Direction</th>\n",
       "    </tr>\n",
       "  </thead>\n",
       "  <tbody>\n",
       "    <tr>\n",
       "      <th>0</th>\n",
       "      <td>25</td>\n",
       "      <td>50</td>\n",
       "      <td>Sunny</td>\n",
       "      <td>North</td>\n",
       "    </tr>\n",
       "    <tr>\n",
       "      <th>1</th>\n",
       "      <td>28</td>\n",
       "      <td>60</td>\n",
       "      <td>Cloudy</td>\n",
       "      <td>South</td>\n",
       "    </tr>\n",
       "    <tr>\n",
       "      <th>2</th>\n",
       "      <td>30</td>\n",
       "      <td>55</td>\n",
       "      <td>Rainy</td>\n",
       "      <td>East</td>\n",
       "    </tr>\n",
       "    <tr>\n",
       "      <th>3</th>\n",
       "      <td>22</td>\n",
       "      <td>45</td>\n",
       "      <td>Cloudy</td>\n",
       "      <td>West</td>\n",
       "    </tr>\n",
       "    <tr>\n",
       "      <th>4</th>\n",
       "      <td>26</td>\n",
       "      <td>52</td>\n",
       "      <td>Sunny</td>\n",
       "      <td>North</td>\n",
       "    </tr>\n",
       "  </tbody>\n",
       "</table>\n",
       "</div>"
      ],
      "text/plain": [
       "   Temperature  Humidity Weather Condition Wind Direction\n",
       "0           25        50             Sunny          North\n",
       "1           28        60            Cloudy          South\n",
       "2           30        55             Rainy           East\n",
       "3           22        45            Cloudy           West\n",
       "4           26        52             Sunny          North"
      ]
     },
     "execution_count": 60,
     "metadata": {},
     "output_type": "execute_result"
    }
   ],
   "source": [
    "import pandas as pd\n",
    "\n",
    "# Define the data\n",
    "data = {\n",
    "    'Temperature': [25, 28, 30, 22, 26],\n",
    "    'Humidity': [50, 60, 55, 45, 52],\n",
    "    'Weather Condition': ['Sunny', 'Cloudy', 'Rainy', 'Cloudy', 'Sunny'],\n",
    "    'Wind Direction': ['North', 'South', 'East', 'West', 'North']\n",
    "}\n",
    "\n",
    "df = pd.DataFrame(data)\n",
    "df"
   ]
  },
  {
   "cell_type": "code",
   "execution_count": 75,
   "id": "d269de8e",
   "metadata": {},
   "outputs": [],
   "source": [
    "from sklearn.preprocessing import LabelEncoder\n",
    "import numpy as np\n",
    "import seaborn as sns"
   ]
  },
  {
   "cell_type": "code",
   "execution_count": 65,
   "id": "c5c15894",
   "metadata": {},
   "outputs": [
    {
     "data": {
      "text/plain": [
       "(array([2, 0, 1, 0, 2]), array([1, 2, 0, 3, 1]))"
      ]
     },
     "execution_count": 65,
     "metadata": {},
     "output_type": "execute_result"
    }
   ],
   "source": [
    "encoder = LabelEncoder()\n",
    "encoding_weather = encoder.fit_transform(df['Weather Condition'])\n",
    "encoding_direction = encoder.fit_transform(df['Wind Direction'])\n",
    "encoding_weather , encoding_direction\n"
   ]
  },
  {
   "cell_type": "code",
   "execution_count": 66,
   "id": "763db5ea",
   "metadata": {},
   "outputs": [
    {
     "data": {
      "text/html": [
       "<div>\n",
       "<style scoped>\n",
       "    .dataframe tbody tr th:only-of-type {\n",
       "        vertical-align: middle;\n",
       "    }\n",
       "\n",
       "    .dataframe tbody tr th {\n",
       "        vertical-align: top;\n",
       "    }\n",
       "\n",
       "    .dataframe thead th {\n",
       "        text-align: right;\n",
       "    }\n",
       "</style>\n",
       "<table border=\"1\" class=\"dataframe\">\n",
       "  <thead>\n",
       "    <tr style=\"text-align: right;\">\n",
       "      <th></th>\n",
       "      <th>Temperature</th>\n",
       "      <th>Humidity</th>\n",
       "      <th>Weather Condition</th>\n",
       "      <th>Wind Direction</th>\n",
       "    </tr>\n",
       "  </thead>\n",
       "  <tbody>\n",
       "    <tr>\n",
       "      <th>0</th>\n",
       "      <td>25</td>\n",
       "      <td>50</td>\n",
       "      <td>2</td>\n",
       "      <td>1</td>\n",
       "    </tr>\n",
       "    <tr>\n",
       "      <th>1</th>\n",
       "      <td>28</td>\n",
       "      <td>60</td>\n",
       "      <td>0</td>\n",
       "      <td>2</td>\n",
       "    </tr>\n",
       "    <tr>\n",
       "      <th>2</th>\n",
       "      <td>30</td>\n",
       "      <td>55</td>\n",
       "      <td>1</td>\n",
       "      <td>0</td>\n",
       "    </tr>\n",
       "    <tr>\n",
       "      <th>3</th>\n",
       "      <td>22</td>\n",
       "      <td>45</td>\n",
       "      <td>0</td>\n",
       "      <td>3</td>\n",
       "    </tr>\n",
       "    <tr>\n",
       "      <th>4</th>\n",
       "      <td>26</td>\n",
       "      <td>52</td>\n",
       "      <td>2</td>\n",
       "      <td>1</td>\n",
       "    </tr>\n",
       "  </tbody>\n",
       "</table>\n",
       "</div>"
      ],
      "text/plain": [
       "   Temperature  Humidity  Weather Condition  Wind Direction\n",
       "0           25        50                  2               1\n",
       "1           28        60                  0               2\n",
       "2           30        55                  1               0\n",
       "3           22        45                  0               3\n",
       "4           26        52                  2               1"
      ]
     },
     "execution_count": 66,
     "metadata": {},
     "output_type": "execute_result"
    }
   ],
   "source": [
    "df['Weather Condition'] = encoding_weather\n",
    "df['Wind Direction'] = encoding_direction\n",
    "\n",
    "df"
   ]
  },
  {
   "cell_type": "code",
   "execution_count": 69,
   "id": "41400230",
   "metadata": {},
   "outputs": [
    {
     "data": {
      "text/plain": [
       "array([[-0.44232587, -0.47961646,  1.11803399, -0.39223227],\n",
       "       [ 0.6634888 ,  1.51878546, -1.11803399,  0.58834841],\n",
       "       [ 1.40069858,  0.5195845 ,  0.        , -1.37281295],\n",
       "       [-1.54814054, -1.47881742, -1.11803399,  1.56892908],\n",
       "       [-0.07372098, -0.07993608,  1.11803399, -0.39223227]])"
      ]
     },
     "execution_count": 69,
     "metadata": {},
     "output_type": "execute_result"
    }
   ],
   "source": [
    "scalar = StandardScaler()\n",
    "scaled_data = scalar.fit_transform(df)\n",
    "scaled_data"
   ]
  },
  {
   "cell_type": "code",
   "execution_count": 73,
   "id": "0ef5c245",
   "metadata": {},
   "outputs": [
    {
     "data": {
      "text/html": [
       "<div>\n",
       "<style scoped>\n",
       "    .dataframe tbody tr th:only-of-type {\n",
       "        vertical-align: middle;\n",
       "    }\n",
       "\n",
       "    .dataframe tbody tr th {\n",
       "        vertical-align: top;\n",
       "    }\n",
       "\n",
       "    .dataframe thead th {\n",
       "        text-align: right;\n",
       "    }\n",
       "</style>\n",
       "<table border=\"1\" class=\"dataframe\">\n",
       "  <thead>\n",
       "    <tr style=\"text-align: right;\">\n",
       "      <th></th>\n",
       "      <th>Temperature</th>\n",
       "      <th>Humidity</th>\n",
       "      <th>Weather Condition</th>\n",
       "      <th>Wind Direction</th>\n",
       "    </tr>\n",
       "  </thead>\n",
       "  <tbody>\n",
       "    <tr>\n",
       "      <th>0</th>\n",
       "      <td>-0.442326</td>\n",
       "      <td>-0.479616</td>\n",
       "      <td>1.118034</td>\n",
       "      <td>-0.392232</td>\n",
       "    </tr>\n",
       "    <tr>\n",
       "      <th>1</th>\n",
       "      <td>0.663489</td>\n",
       "      <td>1.518785</td>\n",
       "      <td>-1.118034</td>\n",
       "      <td>0.588348</td>\n",
       "    </tr>\n",
       "    <tr>\n",
       "      <th>2</th>\n",
       "      <td>1.400699</td>\n",
       "      <td>0.519584</td>\n",
       "      <td>0.000000</td>\n",
       "      <td>-1.372813</td>\n",
       "    </tr>\n",
       "    <tr>\n",
       "      <th>3</th>\n",
       "      <td>-1.548141</td>\n",
       "      <td>-1.478817</td>\n",
       "      <td>-1.118034</td>\n",
       "      <td>1.568929</td>\n",
       "    </tr>\n",
       "    <tr>\n",
       "      <th>4</th>\n",
       "      <td>-0.073721</td>\n",
       "      <td>-0.079936</td>\n",
       "      <td>1.118034</td>\n",
       "      <td>-0.392232</td>\n",
       "    </tr>\n",
       "  </tbody>\n",
       "</table>\n",
       "</div>"
      ],
      "text/plain": [
       "   Temperature  Humidity  Weather Condition  Wind Direction\n",
       "0    -0.442326 -0.479616           1.118034       -0.392232\n",
       "1     0.663489  1.518785          -1.118034        0.588348\n",
       "2     1.400699  0.519584           0.000000       -1.372813\n",
       "3    -1.548141 -1.478817          -1.118034        1.568929\n",
       "4    -0.073721 -0.079936           1.118034       -0.392232"
      ]
     },
     "execution_count": 73,
     "metadata": {},
     "output_type": "execute_result"
    }
   ],
   "source": [
    "scaled_df = pd.DataFrame(scaled_data , columns= ['Temperature', 'Humidity' , 'Weather Condition' , 'Wind Direction'])\n",
    "scaled_df"
   ]
  },
  {
   "cell_type": "code",
   "execution_count": 74,
   "id": "11ecf45f",
   "metadata": {},
   "outputs": [
    {
     "data": {
      "text/html": [
       "<div>\n",
       "<style scoped>\n",
       "    .dataframe tbody tr th:only-of-type {\n",
       "        vertical-align: middle;\n",
       "    }\n",
       "\n",
       "    .dataframe tbody tr th {\n",
       "        vertical-align: top;\n",
       "    }\n",
       "\n",
       "    .dataframe thead th {\n",
       "        text-align: right;\n",
       "    }\n",
       "</style>\n",
       "<table border=\"1\" class=\"dataframe\">\n",
       "  <thead>\n",
       "    <tr style=\"text-align: right;\">\n",
       "      <th></th>\n",
       "      <th>Temperature</th>\n",
       "      <th>Humidity</th>\n",
       "      <th>Weather Condition</th>\n",
       "      <th>Wind Direction</th>\n",
       "    </tr>\n",
       "  </thead>\n",
       "  <tbody>\n",
       "    <tr>\n",
       "      <th>Temperature</th>\n",
       "      <td>1.250000</td>\n",
       "      <td>1.060734</td>\n",
       "      <td>0.103028</td>\n",
       "      <td>-0.939762</td>\n",
       "    </tr>\n",
       "    <tr>\n",
       "      <th>Humidity</th>\n",
       "      <td>1.060734</td>\n",
       "      <td>1.250000</td>\n",
       "      <td>-0.167571</td>\n",
       "      <td>-0.480101</td>\n",
       "    </tr>\n",
       "    <tr>\n",
       "      <th>Weather Condition</th>\n",
       "      <td>0.103028</td>\n",
       "      <td>-0.167571</td>\n",
       "      <td>1.250000</td>\n",
       "      <td>-0.822242</td>\n",
       "    </tr>\n",
       "    <tr>\n",
       "      <th>Wind Direction</th>\n",
       "      <td>-0.939762</td>\n",
       "      <td>-0.480101</td>\n",
       "      <td>-0.822242</td>\n",
       "      <td>1.250000</td>\n",
       "    </tr>\n",
       "  </tbody>\n",
       "</table>\n",
       "</div>"
      ],
      "text/plain": [
       "                   Temperature  Humidity  Weather Condition  Wind Direction\n",
       "Temperature           1.250000  1.060734           0.103028       -0.939762\n",
       "Humidity              1.060734  1.250000          -0.167571       -0.480101\n",
       "Weather Condition     0.103028 -0.167571           1.250000       -0.822242\n",
       "Wind Direction       -0.939762 -0.480101          -0.822242        1.250000"
      ]
     },
     "execution_count": 74,
     "metadata": {},
     "output_type": "execute_result"
    }
   ],
   "source": [
    "scaled_df.cov()"
   ]
  },
  {
   "cell_type": "code",
   "execution_count": 77,
   "id": "02f4a29f",
   "metadata": {},
   "outputs": [
    {
     "data": {
      "text/plain": [
       "<Axes: >"
      ]
     },
     "execution_count": 77,
     "metadata": {},
     "output_type": "execute_result"
    },
    {
     "data": {
      "image/png": "[encoded data removed]",
      "text/plain": [
       "<Figure size 640x480 with 2 Axes>"
      ]
     },
     "metadata": {},
     "output_type": "display_data"
    }
   ],
   "source": [
    "sns.heatmap(scaled_df.cov())"
   ]
  },
  {
   "cell_type": "markdown",
   "id": "dffca8e2",
   "metadata": {},
   "source": [
    "as the temperature increases, humidity in the atmosphere also increases and vice versa(positive correlation).\n"
   ]
  },
  {
   "cell_type": "code",
   "execution_count": null,
   "id": "14dbd077",
   "metadata": {},
   "outputs": [],
   "source": []
  }
 ],
 "metadata": {
  "kernelspec": {
   "display_name": "Python 3 (ipykernel)",
   "language": "python",
   "name": "python3"
  },
  "language_info": {
   "codemirror_mode": {
    "name": "ipython",
    "version": 3
   },
   "file_extension": ".py",
   "mimetype": "text/x-python",
   "name": "python",
   "nbconvert_exporter": "python",
   "pygments_lexer": "ipython3",
   "version": "3.10.9"
  }
 },
 "nbformat": 4,
 "nbformat_minor": 5
}
